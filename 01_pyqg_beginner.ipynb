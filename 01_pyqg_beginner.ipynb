{
 "cells": [
  {
   "cell_type": "markdown",
   "metadata": {},
   "source": [
    "## Two-layer QG Model example to provide an understanding of how [pyqg](https://github.com/pyqg) works. "
   ]
  },
  {
   "cell_type": "markdown",
   "metadata": {},
   "source": [
    "### QG Model Parameters\n",
    "**beta** : Gradient of coriolis parameter. Units: meters -1 seconds -1\n",
    "\n",
    "**rd**   : Deformation radius. Units: meters.\n",
    "\n",
    "**delta**: Layer thickness ratio (H1/H2)\n",
    "\n",
    "**H1**   : Upper layer thickness. Units?\n",
    "\n",
    "**U1**   : Upper layer flow. Units: m/s\n",
    "\n",
    "**U2**   : Lower layer flow. Units: m/s\n",
    "\n",
    "**tmax** : Total time of integration (units: model time)\n",
    "\n",
    "**twrite** : Interval for cfl writeout (units: number of timesteps)\n",
    "\n",
    "**tavestart** : Start time for averaging (units: model time)"
   ]
  },
  {
   "cell_type": "code",
   "execution_count": null,
   "metadata": {},
   "outputs": [],
   "source": [
    "import xarray as xr\n",
    "import numpy as np\n",
    "import matplotlib.pyplot as plt\n",
    "import pyqg\n",
    "import time\n",
    "\n",
    "from matplotlib.animation import FFMpegWriter\n",
    "from matplotlib import animation, rc\n",
    "from IPython.display import HTML\n",
    "plt.rcParams['animation.embed_limit'] = 2**128"
   ]
  },
  {
   "cell_type": "markdown",
   "metadata": {},
   "source": [
    "## 1. Initialize and Run Model\n",
    "\n",
    "The model will run for 10 years and start averaging after 5 years. "
   ]
  },
  {
   "cell_type": "code",
   "execution_count": null,
   "metadata": {},
   "outputs": [],
   "source": [
    "# These are essentially the model defaults in pyqg.QGModel\n",
    "beta = 1.5e-11\n",
    "rd = 15000.0\n",
    "delta = 0.25\n",
    "H1=500\n",
    "U1=0.025\n",
    "U2=0.0\n",
    "\n",
    "year = 24*60*60*365.; tmax=10*year  # tmax is like seconds in 10 years\n",
    "twrite= 24*60*60 # like daily writeouts #10000\n",
    "tavestart= 5*year\n",
    "\n",
    "\n",
    "m = pyqg.QGModel(beta=beta, rd=rd, delta=delta, H1=H1, U1=U1, U2=U2, tmax=tmax, twrite=twrite, tavestart=tavestart)\n",
    "m.run() # Run the model forward without stopping until the end.\n",
    "\n",
    "# Print the shape of some of the model outputs\n",
    "print('m.q ', m.q.shape, 'PV anomaly. First axis contains the layer numbers. In this case there are two.')\n",
    "print('m.Qy ', m.Qy.shape, 'background PV gradient') \n",
    "print('m.y ', m.y.shape)\n",
    "print('m.x ', m.x.shape)\n",
    "print('m.ph', m.ph.shape, 'spectral variable (complex)') \n",
    "print('m.p', m.p.shape, 'stream function') \n",
    "\n",
    "\n",
    "# PV Field\n",
    "q_upper = m.q[0] + m.Qy[0]*m.y\n",
    "q_lower = m.q[1] + m.Qy[1]*m.y\n",
    "\n",
    "\n",
    "### Visualize PV field and stream functions from the two-layer QG Model\n",
    "\n",
    "plt.figure()\n",
    "plt.contourf(m.x, m.y, q_upper, 12, vmin=q_upper.min(), vmax=q_upper.max(), cmap='viridis'); plt.colorbar(label='PV'); \n",
    "plt.contour(m.x, m.y, m.p[0], colors='k', alpha=.6)\n",
    "plt.xlabel('x'); plt.ylabel('y'); plt.title('Upper Layer: time=%g' % m.t)\n",
    "\n",
    "plt.figure()\n",
    "plt.contourf(m.x, m.y, q_lower, 12, vmin=q_lower.min(), vmax=q_lower.max(), cmap='viridis'); plt.colorbar(label='PV')\n",
    "plt.contour(m.x, m.y, m.p[1], colors='k', alpha=.6)\n",
    "plt.xlabel('x'); plt.ylabel('y'); plt.title('Lower Layer: time=%g' % m.t);\n",
    "\n"
   ]
  },
  {
   "cell_type": "markdown",
   "metadata": {},
   "source": [
    "**Courant–Friedrichs–Lewy (CFL)**\n",
    "- Courant–Friedrichs–Lewy: related to numerical stability. "
   ]
  },
  {
   "cell_type": "markdown",
   "metadata": {},
   "source": [
    "Why don't the stream function in the lower layer align with the PV field?"
   ]
  },
  {
   "cell_type": "markdown",
   "metadata": {},
   "source": [
    "## 2. Look at some diagnostics"
   ]
  },
  {
   "cell_type": "code",
   "execution_count": null,
   "metadata": {},
   "outputs": [],
   "source": [
    "m.describe_diagnostics()\n"
   ]
  },
  {
   "cell_type": "markdown",
   "metadata": {},
   "source": [
    "## 3. Run with snapshots"
   ]
  },
  {
   "cell_type": "code",
   "execution_count": null,
   "metadata": {},
   "outputs": [],
   "source": [
    "# functions for plotting and visualize the PV evolution\n",
    "\n",
    "def plot_q(m):\n",
    "    '''Plot PV anomaly field for the upper layer'''\n",
    "    plt.figure()    \n",
    "    plt.contourf(m.x, m.y, m.q[0], 12, vmin=m.q[0].min(), vmax=m.q[0].max(), cmap='RdBu_r'); plt.colorbar(label='PV Anomaly'); \n",
    "    plt.xlabel('x'); plt.ylabel('y'); plt.title('Upper Layer: time=%g' % m.t)\n",
    "    plt.show()\n",
    "    \n",
    "def plot_Q(m):\n",
    "    '''Plot the background PV field for the upper layer'''\n",
    "    Q_upper = m.q[0] + m.Qy1*m.y\n",
    "    plt.figure()    \n",
    "    plt.contourf(m.x, m.y, Q_upper, 12, vmin=Q_upper.min(), vmax=Q_upper.max(), cmap='viridis'); plt.colorbar(label='PV'); \n",
    "    plt.xlabel('x'); plt.ylabel('y'); plt.title('Upper Layer: time=%g' % m.t)\n",
    "    plt.show()\n",
    "    \n",
    "plot_q(m)\n",
    "plot_Q(m)"
   ]
  },
  {
   "cell_type": "code",
   "execution_count": null,
   "metadata": {},
   "outputs": [],
   "source": [
    "year = 24*60*60*360.\n",
    "tavestart=5*year\n",
    "twrite=1000\n",
    "\n",
    "m = pyqg.QGModel(tmax=10*year, twrite=10000, tavestart=5*year)\n",
    "\n",
    "q_snaps = xr.DataArray(data=m.q[:, np.newaxis,:,:],\n",
    "                       dims=['z','time','x','y'],\n",
    "                       coords={'z': [1,2], 'time': [m.t],'x': m.x[0,:] ,'y': m.y[:,0]})\n",
    "\n",
    "for snapshot in m.run_with_snapshots(tsnapstart=tavestart, tsnapint=(tmax-tavestart)/40):\n",
    "#     print(snapshot)\n",
    "    \n",
    "    q_int = xr.DataArray(data=m.q[:, np.newaxis,:,:],\n",
    "                       dims=['z','time','x','y'],\n",
    "                       coords={'z': [1,2], 'time': [m.t],'x': m.x[0,:] ,'y': m.y[:,0]})\n",
    "    \n",
    "    q_snaps = xr.concat([q_snaps, q_int], \"time\")\n",
    "\n",
    "    \n",
    "print(q_snaps.shape)\n",
    "print(q_snaps.dims)\n",
    "    "
   ]
  },
  {
   "cell_type": "markdown",
   "metadata": {},
   "source": [
    "## 4. Create animation"
   ]
  },
  {
   "cell_type": "code",
   "execution_count": null,
   "metadata": {},
   "outputs": [],
   "source": [
    "# Would be nice to use xmovie, however I can't install it! Incompatible Cartopy. Need to check environment conflicts.\n",
    "\n",
    "# from xmovie import Movie\n",
    "# mov = Movie(q_snaps)\n",
    "# # mov.save('movie.gif')\n",
    "# mov.preview(1)"
   ]
  },
  {
   "cell_type": "code",
   "execution_count": null,
   "metadata": {},
   "outputs": [],
   "source": [
    "n = q_snaps.shape[1]\n",
    "\n",
    "fig = plt.figure(figsize=(10,10))\n",
    "plt.rc('xtick', labelsize=22) \n",
    "plt.rc('ytick', labelsize=22)\n",
    "\n",
    "ax = plt.subplot(111)\n",
    "q_snaps[0,0,:,:].plot.contourf(levels=np.arange(-3e-5, 3.5e-5, .5e-5), vmin=-3e-5, vmax=3e-5, extend='both', cmap='RdBu_r')\n",
    "plt.xlabel('x', fontsize=22); plt.ylabel('y', fontsize=22); plt.title('Upper Layer: time=%g' % q_snaps[0,0,:,:].time.values, fontsize=22)\n",
    "ax.set_aspect(1)\n",
    "\n",
    "def animate(i): \n",
    "    ax.clear()\n",
    "    cont = q_snaps[0,i,:,:].plot.contourf(levels=np.arange(-3e-5, 3.5e-5, .5e-5), vmin=-3e-5, vmax=3e-5, extend='both', cmap='RdBu_r', add_colorbar=False); \n",
    "    plt.xlabel('x', fontsize=22); plt.ylabel('y', fontsize=22); plt.title('Upper Layer: time=%g' % q_snaps[0,i,:,:].time.values, fontsize=22)\n",
    "    ax.set_aspect(1)\n",
    "    return cont \n",
    "\n",
    "anim = animation.FuncAnimation(fig, animate, interval=400, frames=n)\n",
    "\n",
    "\n",
    "# anim.save('/Users/hillary/Documents/projects/lcs-ml/movies/QG_example.mp4')\n",
    "# anim.save('basic_animation.mp4', fps=30)\n",
    "\n",
    "HTML(anim.to_jshtml()) # Convert animation to JavaScript widget"
   ]
  },
  {
   "cell_type": "markdown",
   "metadata": {},
   "source": [
    "## 5. Add Lagrangian particles \n",
    "\n",
    "For parts 5 and 6, I followed an example found [here](https://github.com/pyqg/pyqg/blob/master/examples/vis_particles.ipynb)"
   ]
  },
  {
   "cell_type": "code",
   "execution_count": null,
   "metadata": {},
   "outputs": [],
   "source": [
    "# setup model\n",
    "year = 24*60*60*360.\n",
    "tavestart=5*year\n",
    "tmax=10*year\n",
    "twrite=1000000\n",
    "\n",
    "m = pyqg.QGModel(tmax=tmax, twrite=twrite, nx=64, tavestart=tavestart)"
   ]
  },
  {
   "cell_type": "markdown",
   "metadata": {},
   "source": [
    "#### Set up Lagrangian particles"
   ]
  },
  {
   "cell_type": "code",
   "execution_count": null,
   "metadata": {},
   "outputs": [],
   "source": [
    "x0,y0 = np.meshgrid(m.x[0,::2], m.y[::2,0])\n",
    "x0 = x0.ravel() # Return a contiguous flattened array\n",
    "y0 = y0.ravel()\n",
    "Npart = x0.size\n"
   ]
  },
  {
   "cell_type": "markdown",
   "metadata": {},
   "source": [
    "### [pyqg.particles.GriddedLagrangianParticleArray2D](https://pyqg.readthedocs.io/en/latest/api.html#pyqg.GriddedLagrangianParticleArray2D)\n",
    "**Parameters:**\n",
    "\n",
    "**x0, y0** (array-like) – Two arrays (same size) representing the particle initial positions.\n",
    "\n",
    "**Nx, Ny** (int) – Number of grid points in the x and y directions\n",
    "\n",
    "**grid_type: {‘A’}** – Arakawa grid type specifying velocity positions.\n",
    "\n",
    "**periodic_in_x** (bool) – Whether the domain wraps in the x direction.\n",
    "\n",
    "**periodic_in_y** (bool) – Whether the domain ‘wraps’ in the y direction.\n",
    "\n",
    "**xmin, xmax** (int) – Maximum and minimum values of x coordinate\n",
    "\n",
    "**ymin, ymax** (int) – Maximum and minimum values of y coordinate"
   ]
  },
  {
   "cell_type": "code",
   "execution_count": null,
   "metadata": {},
   "outputs": [],
   "source": [
    "# Lagrangian particles with velocities given on a regular cartesian grid. \n",
    "lpa = pyqg.particles.GriddedLagrangianParticleArray2D(x0, y0, m.nx, m.ny,\n",
    "        periodic_in_x=True, periodic_in_y=True,\n",
    "        xmin=0, xmax=m.L, ymin=0, ymax=m.W)\n"
   ]
  },
  {
   "cell_type": "markdown",
   "metadata": {},
   "source": [
    "## 6. Advance particles using a gridded velocity field\n",
    "\n",
    "### [step_forward_with_gridded_uv](https://pyqg.readthedocs.io/en/latest/api.html#step_forward_with_gridded_uv)"
   ]
  },
  {
   "cell_type": "code",
   "execution_count": null,
   "metadata": {},
   "outputs": [],
   "source": [
    "# number of particles to save\n",
    "Nhold = 40\n",
    "particle_history = np.zeros((Nhold,2,Npart)) \n"
   ]
  },
  {
   "cell_type": "code",
   "execution_count": null,
   "metadata": {},
   "outputs": [],
   "source": [
    "# set up extended grid for lagrangian particles\n",
    "x = np.hstack([m.x[0,0]-m.dx, m.x[0,::2], m.x[0,-1]+m.dx])\n",
    "y = np.hstack([m.y[0,0]-m.dy, m.y[::2,0], m.y[-1,0]+m.dy])\n"
   ]
  },
  {
   "cell_type": "code",
   "execution_count": null,
   "metadata": {},
   "outputs": [],
   "source": [
    "# hack to reset the timer\n",
    "m.tmax = 10.01*year\n",
    "if m.t > 10*year:\n",
    "    m.t = 10*year\n",
    "    "
   ]
  },
  {
   "cell_type": "markdown",
   "metadata": {},
   "source": [
    "#### Run particles with snapshots"
   ]
  },
  {
   "cell_type": "code",
   "execution_count": null,
   "metadata": {},
   "outputs": [],
   "source": [
    "# add stream function (pH?)\n",
    "lpa_snaps = xr.Dataset({'q' : (['z','time','x','y'], m.q[:, np.newaxis,:,:]),\n",
    "                           'u' : (['z','time','x','y'], m.u[:, np.newaxis,:,:]),\n",
    "                           'v' : (['z','time','x','y'], m.v[:, np.newaxis,:,:]),\n",
    "                           'particle_history' : (['Nhold','time','axis','Npart'], particle_history[:, np.newaxis,:,:])},\n",
    "                           coords={'z': [1,2],\n",
    "                                  'time': [m.t],\n",
    "                                  'x': m.x[0,:],\n",
    "                                  'y': m.y[:,0],\n",
    "                                  'axis' : [1,2]})\n",
    "\n",
    "n=0\n",
    "\n",
    "for snapshot in m.run_with_snapshots(tsnapstart=tavestart, tsnapint=m.dt):# #tsnapstart=0, tsnapint=(tmax-tavestart)/10):\n",
    "    \n",
    "    # set up velocities for lagrangian advection (need a view with wrapped values)\n",
    "    u = m.u[0][np.r_[-1,0:m.ny,0]][:,np.r_[-1,0:m.nx,0]]\n",
    "    v = m.v[0][np.r_[-1,0:m.ny,0]][:,np.r_[-1,0:m.nx,0]]\n",
    "    \n",
    "    if n>=1:\n",
    "        # Advance particles using a gridded velocity field. \n",
    "        # Because of the Runga-Kutta timestepping, we need two velocity fields at different times.\n",
    "        lpa.step_forward_with_gridded_uv(uprev, vprev, u, v, m.dt)\n",
    "        particle_history = np.roll(particle_history, 1, axis=0)\n",
    "        particle_history[0,0,:] = lpa.x\n",
    "        particle_history[0,1,:] = lpa.y\n",
    "   \n",
    "    uprev = u.copy()\n",
    "    vprev = v.copy()\n",
    "    \n",
    "    \n",
    "    lpa_int = xr.Dataset({'q' : (['z','time','x','y'], m.q[:, np.newaxis,:,:]),\n",
    "                           'u' : (['z','time','x','y'], m.u[:, np.newaxis,:,:]),\n",
    "                           'v' : (['z','time','x','y'], m.v[:, np.newaxis,:,:]),\n",
    "                           'particle_history' : (['Nhold','time','axis','Npart'], particle_history[:, np.newaxis,:,:])},\n",
    "                           coords={'z': [1,2],\n",
    "                                  'time': [m.t],\n",
    "                                  'x': m.x[0,:],\n",
    "                                  'y': m.y[:,0],\n",
    "                                  'axis' : [1,2]})\n",
    "        \n",
    "    lpa_snaps = xr.concat([lpa_snaps, lpa_int], \"time\")\n",
    "\n",
    "    n+=1\n",
    "    \n",
    "    if n>500:\n",
    "        break"
   ]
  },
  {
   "cell_type": "markdown",
   "metadata": {},
   "source": [
    "## 7. Animate PV anomaly field with particles"
   ]
  },
  {
   "cell_type": "code",
   "execution_count": null,
   "metadata": {},
   "outputs": [],
   "source": [
    "n = lpa_snaps.particle_history.shape[1]\n",
    "\n",
    "fig = plt.figure(figsize=(10,10))\n",
    "plt.rc('xtick', labelsize=18) \n",
    "plt.rc('ytick', labelsize=18)\n",
    "\n",
    "ax = plt.subplot(111)\n",
    "lpa_snaps.q[0,0,:,:].plot.contourf(levels=np.arange(-3e-5, 3.5e-5, .5e-5), vmin=-3e-5, vmax=3e-5, cmap='RdBu_r', extend='both', add_colorbar=True)\n",
    "plt.plot(lpa_snaps.particle_history[0,history,0,:].values.ravel(),lpa_snaps.particle_history[0,history,1,:].values.ravel(), 'k.', ms=4) \n",
    "plt.xlim(x.min(), x.max()); plt.ylim(y.min(), y.max())\n",
    "plt.xlabel('x'); plt.ylabel('y')\n",
    "ax.set_aspect(1)\n",
    "\n",
    "def animate(i): \n",
    "    \n",
    "    \n",
    "    xpos = lpa_snaps.particle_history[:,i,0,:]\n",
    "    dxdt = np.gradient(xpos, axis=0)\n",
    "    I = np.where((dxdt<=-10000) | (dxdt>=10000))\n",
    "    xpos[I[0],I[1]] = np.nan\n",
    "\n",
    "    ypos = lpa_snaps.particle_history[:,i,1,:]\n",
    "    dydt = np.gradient(ypos, axis=0)\n",
    "    J = np.where((dydt<=-10000) | (dydt>=10000))\n",
    "    ypos[J[0],J[1]] = np.nan\n",
    "\n",
    "\n",
    "    ax.clear()\n",
    "    cont1 = lpa_snaps.q[0,i,:,:].plot.contourf(levels=np.arange(-3e-5, 3.5e-5, .5e-5), vmin=-3e-5, vmax=3e-5, cmap='RdBu_r', alpha=0.5, extend='both', add_colorbar=False)\n",
    "    cont2 = plt.plot(lpa_snaps.particle_history[0,i,0,:].values.ravel(),lpa_snaps.particle_history[0,i,1,:].values.ravel(), 'k.', ms=4) \n",
    "    cont3 = plt.plot(xpos,ypos, linewidth=2) ;\n",
    "    plt.xlim(x.min(), x.max()); plt.ylim(y.min(), y.max())\n",
    "    plt.xlabel('x', fontsize=22); plt.ylabel('y', fontsize=22)\n",
    "    ax.set_aspect(1)\n",
    "    return cont1, cont2, cont3\n",
    "\n",
    "anim = animation.FuncAnimation(fig, animate, interval=100, frames=n)\n",
    "HTML(anim.to_jshtml()) # Convert animation to JavaScript widget\n"
   ]
  },
  {
   "cell_type": "code",
   "execution_count": null,
   "metadata": {},
   "outputs": [],
   "source": [
    "# n = lpa_snaps.time.shape[0]\n",
    "\n",
    "# fig = plt.figure(figsize=(10,10))\n",
    "# plt.rc('xtick', labelsize=18) \n",
    "# plt.rc('ytick', labelsize=18)\n",
    "\n",
    "# ax = plt.subplot(111)\n",
    "# lpa_snaps.q[0,0,:,:].plot.contourf(levels=np.arange(-3e-5, 3.5e-5, .5e-5), vmin=-3e-5, vmax=3e-5, cmap='RdBu_r', extend='both', add_colorbar=True)\n",
    "# plt.plot(lpa_snaps.particle_history[0,0,0,:].values.ravel(),lpa_snaps.particle_history[0,0,1,:].values.ravel(), 'k.', ms=4) \n",
    "# plt.xlim(x.min(), x.max()); plt.ylim(y.min(), y.max())\n",
    "# plt.xlabel('x'); plt.ylabel('y')\n",
    "# ax.set_aspect(1)\n",
    "\n",
    "# def animate(i): \n",
    "#     ax.clear()\n",
    "#     cont1 = lpa_snaps.q[0,i,:,:].plot.contourf(levels=np.arange(-3e-5, 3.5e-5, .5e-5), vmin=-3e-5, vmax=3e-5, cmap='RdBu_r', extend='both', add_colorbar=False)\n",
    "#     cont2 = plt.plot(lpa_snaps.particle_history[0,i,0,:].values.ravel(),lpa_snaps.particle_history[0,i,1,:].values.ravel(), 'k.', ms=4) \n",
    "#     plt.xlim(x.min(), x.max()); plt.ylim(y.min(), y.max())\n",
    "#     plt.xlabel('x', fontsize=22); plt.ylabel('y', fontsize=22)\n",
    "#     ax.set_aspect(1)\n",
    "#     return cont1, cont2\n",
    "\n",
    "# anim = animation.FuncAnimation(fig, animate, interval=100, frames=n)\n",
    "# HTML(anim.to_jshtml()) # Convert animation to JavaScript widget"
   ]
  },
  {
   "cell_type": "markdown",
   "metadata": {},
   "source": [
    "## 8. Animate PV anomaly and velocity fields"
   ]
  },
  {
   "cell_type": "code",
   "execution_count": null,
   "metadata": {},
   "outputs": [],
   "source": [
    "n = lpa_snaps.time.shape[0]\n",
    "\n",
    "fig = plt.figure(figsize=(10,10))\n",
    "plt.rc('xtick', labelsize=22) \n",
    "plt.rc('ytick', labelsize=22)\n",
    "\n",
    "ax = plt.subplot(111)\n",
    "plt.contourf(lpa_snaps.x, lpa_snaps.y, lpa_snaps.q[0,0,:,:], 12, cmap='RdBu_r', extend='both'); plt.colorbar(label='PV Anomaly'); \n",
    "plt.quiver(lpa_snaps.x, lpa_snaps.y, lpa_snaps.u[0,0,:,:], lpa_snaps.v[0,0,:,:], scale=10)\n",
    "plt.xlabel('x'); plt.ylabel('y')\n",
    "plt.xlim(x.min(), x.max()); plt.ylim(y.min(), y.max())\n",
    "ax.set_aspect(1)\n",
    "\n",
    "def animate(i): \n",
    "    ax.clear()\n",
    "    cont1 = lpa_snaps.q[0,i,:,:].plot.contourf(levels=np.arange(-3e-5, 3.5e-5, .5e-5), vmin=-3e-5, vmax=3e-5, extend='both', cmap='RdBu_r', add_colorbar=False);\n",
    "    cont2 = plt.quiver(lpa_snaps.x, lpa_snaps.y, lpa_snaps.u[0,i,:,:], lpa_snaps.v[0,i,:,:], scale=10)\n",
    "    plt.xlabel('x', fontsize=22); plt.ylabel('y', fontsize=22)\n",
    "    plt.xlim(x.min(), x.max()); plt.ylim(y.min(), y.max())\n",
    "    ax.set_aspect(1)\n",
    "    return cont1, cont2\n",
    "\n",
    "anim = animation.FuncAnimation(fig, animate, interval=100, frames=n)\n",
    "HTML(anim.to_jshtml()) # Convert animation to JavaScript widget\n"
   ]
  },
  {
   "cell_type": "code",
   "execution_count": null,
   "metadata": {},
   "outputs": [],
   "source": []
  }
 ],
 "metadata": {
  "kernelspec": {
   "display_name": "Python [conda env:lcs-ml]",
   "language": "python",
   "name": "conda-env-lcs-ml-py"
  },
  "language_info": {
   "codemirror_mode": {
    "name": "ipython",
    "version": 3
   },
   "file_extension": ".py",
   "mimetype": "text/x-python",
   "name": "python",
   "nbconvert_exporter": "python",
   "pygments_lexer": "ipython3",
   "version": "3.9.1"
  }
 },
 "nbformat": 4,
 "nbformat_minor": 5
}

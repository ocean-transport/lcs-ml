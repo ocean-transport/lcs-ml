{
 "cells": [
  {
   "cell_type": "markdown",
   "metadata": {},
   "source": [
    "### The goal of this notebook is to reproduce section 2 in Zhang et al. (2020)\n",
    "\n",
    "This notebook attempts to reproduce the results from [Zhang et al. 2020](https://www.mdpi.com/2311-5521/5/1/2) using a two-layer QG system. Once the flow is seeded with Lagragian particles, we used the Lagrangian Averaged Vorticity Deviation (LAVD) method to identify coherent eddies.  \n",
    "\n",
    "`pyqg` is used to spinup a two-layer QG turbulence system. We will use the same nondimensional bottom friction and beta parameters to simulate the dynamics of the Southern Ocean. \n",
    "\n",
    "`floater` will be helpful to implement the  Lagrangian Averaged Vorticity Deviation (LAVD) technique to detect coherent eddies. "
   ]
  },
  {
   "cell_type": "code",
   "execution_count": 1,
   "metadata": {},
   "outputs": [],
   "source": [
    "import xarray as xr\n",
    "import numpy as np\n",
    "import matplotlib.pyplot as plt"
   ]
  },
  {
   "cell_type": "code",
   "execution_count": null,
   "metadata": {},
   "outputs": [],
   "source": []
  }
 ],
 "metadata": {
  "kernelspec": {
   "display_name": "lcs",
   "language": "python",
   "name": "lcs"
  },
  "language_info": {
   "codemirror_mode": {
    "name": "ipython",
    "version": 3
   },
   "file_extension": ".py",
   "mimetype": "text/x-python",
   "name": "python",
   "nbconvert_exporter": "python",
   "pygments_lexer": "ipython3",
   "version": "3.9.1"
  }
 },
 "nbformat": 4,
 "nbformat_minor": 4
}

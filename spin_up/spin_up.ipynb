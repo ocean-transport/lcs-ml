{
 "cells": [
  {
   "cell_type": "code",
   "execution_count": 1,
   "id": "d6993b24",
   "metadata": {},
   "outputs": [
    {
     "name": "stderr",
     "output_type": "stream",
     "text": [
      "INFO:  Logger initialized\n",
      "INFO:  Logger initialized\n"
     ]
    }
   ],
   "source": [
    "import os\n",
    "import numpy as np\n",
    "import xarray as xr\n",
    "import pyqg\n",
    "from numpy.random import Generator, MT19937\n",
    "import yaml\n",
    "\n",
    "\n",
    "# model configuration\n",
    "config_file = '/burg/home/hs3277/lcs-ml/config.yml'\n",
    "with open(config_file) as file:\n",
    "    config = yaml.load(file, Loader=yaml.FullLoader)\n",
    "    \n",
    "# Initialize QG Model\n",
    "m = pyqg.QGModel(nx=config['nx'], L=config['L'], dt=config['dt'], tmax=config['tmax'], twrite=config['twrite'],\n",
    "                 tavestart=config['tavestart'], ntd=config['ntd'], beta=config['beta'], rd=config['Ld'], delta=config['delta'],\n",
    "                 H1=config['H1'], U1=config['U1'], U2=config['U2'], rek=config['rek']) \n",
    "\n",
    "# Set upper and lower layer PV anomalies (in spatial coordinates)\n",
    "rg = Generator(MT19937(int(1)))\n",
    "qi = config['sig']*rg.random((m.q.shape))\n",
    "m.set_q(qi) "
   ]
  },
  {
   "cell_type": "code",
   "execution_count": 2,
   "id": "fd492cf6",
   "metadata": {},
   "outputs": [
    {
     "name": "stderr",
     "output_type": "stream",
     "text": [
      "INFO: Step: 50000, Time: 3.00e+07, KE: 6.15e-05, CFL: 0.023\n",
      "INFO: Step: 50000, Time: 3.00e+07, KE: 6.15e-05, CFL: 0.023\n",
      "INFO: Step: 100000, Time: 6.00e+07, KE: 3.03e-03, CFL: 0.121\n",
      "INFO: Step: 100000, Time: 6.00e+07, KE: 3.03e-03, CFL: 0.121\n",
      "INFO: Step: 150000, Time: 9.00e+07, KE: 4.05e-03, CFL: 0.165\n",
      "INFO: Step: 150000, Time: 9.00e+07, KE: 4.05e-03, CFL: 0.165\n",
      "INFO: Step: 200000, Time: 1.20e+08, KE: 4.11e-03, CFL: 0.147\n",
      "INFO: Step: 200000, Time: 1.20e+08, KE: 4.11e-03, CFL: 0.147\n",
      "INFO: Step: 250000, Time: 1.50e+08, KE: 3.71e-03, CFL: 0.163\n",
      "INFO: Step: 250000, Time: 1.50e+08, KE: 3.71e-03, CFL: 0.163\n",
      "INFO: Step: 300000, Time: 1.80e+08, KE: 4.23e-03, CFL: 0.149\n",
      "INFO: Step: 300000, Time: 1.80e+08, KE: 4.23e-03, CFL: 0.149\n",
      "INFO: Step: 350000, Time: 2.10e+08, KE: 4.15e-03, CFL: 0.156\n",
      "INFO: Step: 350000, Time: 2.10e+08, KE: 4.15e-03, CFL: 0.156\n",
      "INFO: Step: 400000, Time: 2.40e+08, KE: 3.72e-03, CFL: 0.121\n",
      "INFO: Step: 400000, Time: 2.40e+08, KE: 3.72e-03, CFL: 0.121\n",
      "INFO: Step: 450000, Time: 2.70e+08, KE: 3.85e-03, CFL: 0.141\n",
      "INFO: Step: 450000, Time: 2.70e+08, KE: 3.85e-03, CFL: 0.141\n",
      "INFO: Step: 500000, Time: 3.00e+08, KE: 4.18e-03, CFL: 0.143\n",
      "INFO: Step: 500000, Time: 3.00e+08, KE: 4.18e-03, CFL: 0.143\n"
     ]
    }
   ],
   "source": [
    "# Run with snapshots and save model at each interval as netcdf\n",
    "for snapshot in m.run_with_snapshots(tsnapstart=m.t, tsnapint=config['day']*7):\n",
    "    model = m.to_dataset()\n",
    "    fn = '/burg/abernathey/users/hillary/pyqg_spin_up/'+ str('%d'%model.time.values[0]) +'.nc'\n",
    "    model.to_netcdf(fn, engine='h5netcdf', invalid_netcdf=True, mode='a')"
   ]
  },
  {
   "cell_type": "code",
   "execution_count": null,
   "id": "82740ee9",
   "metadata": {},
   "outputs": [],
   "source": []
  }
 ],
 "metadata": {
  "kernelspec": {
   "display_name": "lcs-ml",
   "language": "python",
   "name": "lcs-ml"
  },
  "language_info": {
   "codemirror_mode": {
    "name": "ipython",
    "version": 3
   },
   "file_extension": ".py",
   "mimetype": "text/x-python",
   "name": "python",
   "nbconvert_exporter": "python",
   "pygments_lexer": "ipython3",
   "version": "3.7.0"
  }
 },
 "nbformat": 4,
 "nbformat_minor": 5
}

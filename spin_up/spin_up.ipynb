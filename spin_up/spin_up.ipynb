{
 "cells": [
  {
   "cell_type": "code",
   "execution_count": null,
   "id": "95c822ad",
   "metadata": {},
   "outputs": [],
   "source": [
    "import os, pyqg, yaml\n",
    "from numpy.random import Generator, MT19937"
   ]
  },
  {
   "cell_type": "code",
   "execution_count": null,
   "id": "ea701dde",
   "metadata": {},
   "outputs": [],
   "source": [
    "# model configuration\n",
    "config_file = '/burg/home/hs3277/lcs-ml/config.yml'\n",
    "with open(config_file) as file:\n",
    "    config = yaml.load(file, Loader=yaml.FullLoader)\n",
    "    \n",
    "# Initialize QG Model\n",
    "m = pyqg.QGModel(nx=config['nx'], L=config['L'], dt=config['dt'], tmax=config['tmax'], twrite=config['twrite'],\n",
    "                 tavestart=config['tavestart'], taveint=config['taveint'], ntd=config['ntd'], beta=config['beta'],\n",
    "                 rd=config['Ld'], delta=config['delta'], H1=config['H1'], U1=config['U1'], U2=config['U2'], rek=config['rek']) \n",
    "\n",
    "# Set upper and lower layer PV anomalies (in spatial coordinates)\n",
    "rg = Generator(MT19937(int(1)))\n",
    "qi = config['sig']*rg.random((m.q.shape))\n",
    "m.set_q(qi) "
   ]
  },
  {
   "cell_type": "code",
   "execution_count": null,
   "id": "c81ad24e",
   "metadata": {},
   "outputs": [],
   "source": [
    "Tsave = config['day']*30\n",
    "OUT_FILE = '/burg/abernathey/users/hillary/lcs/spin_up/spin_up.zarr' \n",
    "\n",
    "# Run with snapshots and save model every 30 days\n",
    "for snapshot in m.run_with_snapshots(tsnapstart=m.t, tsnapint=m.dt):\n",
    "    \n",
    "    if (m.t % Tsave)==0:\n",
    "        model = m.to_dataset()\n",
    "        model = model.chunk() #this uses a global chunk\n",
    "\n",
    "        if m.t == Tsave:\n",
    "            model.to_zarr(OUT_FILE, mode='w-', consolidated=True)\n",
    "        else:\n",
    "            model.to_zarr(OUT_FILE, mode='a', append_dim='time', consolidated=True)\n"
   ]
  }
 ],
 "metadata": {
  "kernelspec": {
   "display_name": "lcs-ml",
   "language": "python",
   "name": "lcs-ml"
  },
  "language_info": {
   "codemirror_mode": {
    "name": "ipython",
    "version": 3
   },
   "file_extension": ".py",
   "mimetype": "text/x-python",
   "name": "python",
   "nbconvert_exporter": "python",
   "pygments_lexer": "ipython3",
   "version": "3.7.0"
  }
 },
 "nbformat": 4,
 "nbformat_minor": 5
}

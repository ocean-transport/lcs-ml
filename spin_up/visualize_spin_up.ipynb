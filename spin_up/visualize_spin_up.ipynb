{
 "cells": [
  {
   "cell_type": "markdown",
   "metadata": {},
   "source": [
    "### Plot the evolution of kinetic energy and potentail vorticity in the 2-layer QG spin up simulation "
   ]
  },
  {
   "cell_type": "code",
   "execution_count": 5,
   "metadata": {},
   "outputs": [],
   "source": [
    "import numpy as np\n",
    "import dask\n",
    "import xarray as xr\n",
    "import matplotlib.pyplot as plt"
   ]
  },
  {
   "cell_type": "code",
   "execution_count": 3,
   "metadata": {},
   "outputs": [
    {
     "data": {
      "text/plain": [
       "'0.4.0'"
      ]
     },
     "execution_count": 3,
     "metadata": {},
     "output_type": "execute_result"
    }
   ],
   "source": [
    "import pyqg\n",
    "pyqg.__version__"
   ]
  },
  {
   "cell_type": "code",
   "execution_count": 6,
   "metadata": {},
   "outputs": [
    {
     "data": {
      "text/plain": [
       "<dask.config.set at 0x1554fbf19780>"
      ]
     },
     "execution_count": 6,
     "metadata": {},
     "output_type": "execute_result"
    }
   ],
   "source": [
    "dask.config.set(**{'array.slicing.split_large_chunks': True})"
   ]
  },
  {
   "cell_type": "code",
   "execution_count": null,
   "metadata": {
    "scrolled": false
   },
   "outputs": [],
   "source": [
    "# import spin-up files\n",
    "ds = xr.open_mfdataset('/burg/abernathey/users/hillary/spin_up/*.nc')\n",
    "ds"
   ]
  },
  {
   "cell_type": "code",
   "execution_count": null,
   "metadata": {},
   "outputs": [],
   "source": [
    "# Plot initialized PV on ensemble member 1\n",
    "qi_upper = m.q[0] + m.Qy[0]*m.y\n",
    "qi_lower = m.q[1] + m.Qy[1]*m.y\n",
    "\n",
    "plt.figure(figsize=(18,6))\n",
    "plt.rcParams.update({'font.size': 18})\n",
    "\n",
    "plt.subplot(121)\n",
    "plt.contourf(m.x, m.y, qi_upper, 12, cmap='RdBu_r')\n",
    "plt.xlabel('x'); plt.ylabel('y'); plt.title('Upper Layer PV')\n",
    "plt.colorbar(); plt.axis('square')\n",
    "\n",
    "plt.subplot(122)\n",
    "plt.contourf(m.x, m.y, qi_lower, 12, cmap='RdBu_r')\n",
    "plt.xlabel('x'); plt.ylabel('y'); plt.title('Lower Layer PV')\n",
    "plt.colorbar(); plt.axis('square')\n",
    "\n",
    "plt.tight_layout();"
   ]
  },
  {
   "cell_type": "code",
   "execution_count": null,
   "metadata": {},
   "outputs": [],
   "source": [
    "ds.q[-1,1,:,:].plot()"
   ]
  },
  {
   "cell_type": "code",
   "execution_count": null,
   "metadata": {},
   "outputs": [],
   "source": [
    "ds.EKE[:,1].plot()"
   ]
  },
  {
   "cell_type": "code",
   "execution_count": null,
   "metadata": {},
   "outputs": [],
   "source": [
    "ds.q[0,1,:,:].plot()"
   ]
  },
  {
   "cell_type": "code",
   "execution_count": null,
   "metadata": {},
   "outputs": [],
   "source": [
    "# Mean Eddy Kinetic Energy (EKE) as a function of time\n",
    "dEKE_dt = np.gradient(ds.EKE.isel(lev=0), ds.time)\n",
    "# I = int(np.where(np.abs(ds.time - year*14)==np.min(np.abs(ds.time - year*14)))[0])\n",
    "# time_stable = ds.time[I].values\n",
    "\n",
    "# Plot EKE derivative\n",
    "plt.rcParams.update({'font.size': 18})\n",
    "plt.figure(figsize=(12,6)); plt.plot(ds.time/year, dEKE_dt)\n",
    "plt.ylabel('EKE central differece'); plt.xlabel('model time (year)')\n",
    "plt.axvline(x=time_stable/year, color='k', linestyle='--')\n",
    "\n",
    "\n",
    "# print('model appears stable at', ds.time[I].values/year, 'years');"
   ]
  },
  {
   "cell_type": "code",
   "execution_count": null,
   "metadata": {},
   "outputs": [],
   "source": [
    "# Plot time series of EKE\n",
    "plt.figure(figsize=(12,6))\n",
    "plt.semilogy(ds.time/year, ds.EKE.isel(lev=0), lw=4, color='purple', label='upper layer')\n",
    "plt.semilogy(ds.time/year, ds.EKE.isel(lev=1), lw=4, color='darkorange', label='lower layer')\n",
    "ints = [10000, 15000, 25000, 35000, 55000, 70000]\n",
    "for i in ints:\n",
    "    plt.axvline(x=ds.time[i]/year, color='lightblue', linewidth=2, alpha=1)\n",
    "plt.axvline(x=time_stable/year, color='k', lw=2, linestyle='--')\n",
    "plt.grid(True, alpha=0.5); plt.legend(frameon=False, ncol=2)\n",
    "plt.ylabel(r'KE ($\\rmcm^{2}$/$\\rms^{2}$)'); plt.xlabel('Model Time (year)');"
   ]
  },
  {
   "cell_type": "markdown",
   "metadata": {},
   "source": [
    "As the model gets spun up, the mean EKE increases until it reaches an equilibrated state. When the EKE plateaus the model is in a stable state. The dashed vertical line marks 12.5 years when the model appears stable. This would be a good place to save the model state for the ensemble perturbation experiment.\n",
    "\n",
    "Vertical light blue lines show times corresponding the the snapshots plotted below. "
   ]
  },
  {
   "cell_type": "code",
   "execution_count": null,
   "metadata": {},
   "outputs": [],
   "source": [
    "# Evolution of the upper PV anomaly field\n",
    "print('stable index ', int(np.where(ds.time == time_stable)[0]))\n",
    "\n",
    "plt.rcParams.update({'font.size': 10})\n",
    "plt.rcParams['image.cmap'] = 'RdBu'\n",
    "\n",
    "ints = [0, 1000, 5000, 10000, 20000, 50000]\n",
    "plt.figure(figsize=(15,15))\n",
    "for i in enumerate(ints):\n",
    "    plt.subplot(2,3,i[0]+1)\n",
    "    plt.pcolormesh(ds.q[i[1],0,:,:])\n",
    "    plt.title((ds.time[i[1]].values/year).round(decimals=2), color='k') # The titles correspond to the model time in years. \n",
    "    plt.colorbar()"
   ]
  },
  {
   "cell_type": "code",
   "execution_count": null,
   "metadata": {},
   "outputs": [],
   "source": [
    "# Save model state at equilibrium\n",
    "I = int(np.where(np.abs(ds.time - time_stable)==np.min(np.abs(ds.time - time_stable)))[0])\n",
    "qg_equilibrium = ds[dict(time=I)]\n",
    "\n",
    "path = '/burg/abernathey/users/hillary/'\n",
    "qg_equilibrium.to_netcdf(path+'QG_equilibrium_proto.nc', engine='h5netcdf', invalid_netcdf=True)"
   ]
  }
 ],
 "metadata": {
  "kernelspec": {
   "display_name": "lcs-ml",
   "language": "python",
   "name": "lcs-ml"
  },
  "language_info": {
   "codemirror_mode": {
    "name": "ipython",
    "version": 3
   },
   "file_extension": ".py",
   "mimetype": "text/x-python",
   "name": "python",
   "nbconvert_exporter": "python",
   "pygments_lexer": "ipython3",
   "version": "3.7.0"
  }
 },
 "nbformat": 4,
 "nbformat_minor": 4
}

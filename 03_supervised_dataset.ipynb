{
 "cells": [
  {
   "cell_type": "markdown",
   "metadata": {},
   "source": [
    "## This notebook prepares testing / training data for the supervised learning of LCS"
   ]
  },
  {
   "cell_type": "markdown",
   "metadata": {},
   "source": [
    "*The basic goal is to train a neural network to label RCLVs based on the LAVD field using the existing algorithm as a training dataset.*\n",
    "\n",
    "#### Our inputs will be images containing:\n",
    "- LAVD field\n",
    "- Labeled binary mask of eddies detected using RCLV\n",
    "\n",
    "The LAVD field was generated following the QG model setup in [Zhang et al. (2020)](https://doi.org/10.3390/fluids5010002), which can be reproduced in **02_RCLV_Zhang2020.ipynb**. Eddies are identified using the RCLV method and implemented with `floater` using a coherency index of -0.75 and minimum area of 200 pixels.  \n",
    "\n",
    "#### Some questions:\n",
    "\n",
    "How many images do we need to be statistically independent? 100? 1000?\n",
    "\n",
    "Are we going to use augmentation (rotation, translation, flipping, etc.)?"
   ]
  },
  {
   "cell_type": "code",
   "execution_count": 1,
   "metadata": {},
   "outputs": [],
   "source": [
    "import xarray as xr\n",
    "from tensorflow import keras\n"
   ]
  },
  {
   "cell_type": "code",
   "execution_count": 2,
   "metadata": {},
   "outputs": [],
   "source": [
    "# Import zarr files created from 02_RCLV_Zhang2020.ipynb\n",
    "LAVD = xr.open_zarr()\n",
    "\n",
    "labels = xr.open_zarr()"
   ]
  },
  {
   "cell_type": "code",
   "execution_count": null,
   "metadata": {},
   "outputs": [],
   "source": [
    "keras.backend.set_image_data_format('channels_last')\n",
    "\n",
    "model_size = 512\n",
    "nchannels = 1\n",
    "\n",
    "input_layer = keras.Input(shape=(model_size, model_size, nchannels))\n",
    "conv_layer0 = keras.layers.Conv2D(10, 2, activation='relu')(input_layer)\n",
    "conv_layer1 = keras.layers.Conv2D(10, 2, activation='relu')(conv_layer0)\n",
    "conv_layer2 = keras.layers.Conv2D(10, 2, activation='relu')(conv_layer1)\n",
    "sum_layer = keras.layers.Conv2D(1, 1, activation='softmax')(conv_layer2)\n",
    "\n",
    "# todo: add \"residual blocks\", skip connections\n",
    "\n",
    "model = keras.Model(inputs=input_layer, outputs=sum_layer)\n",
    "\n",
    "optimizer = keras.optimizers.Adam()\n",
    "\n",
    "# probably want to use cross entropy for loss\n",
    "model.compile(loss='mse', optimizer=optimizer)\n",
    "model.summary()"
   ]
  }
 ],
 "metadata": {
  "kernelspec": {
   "display_name": "Python [conda env:lcs-ml]",
   "language": "python",
   "name": "conda-env-lcs-ml-py"
  },
  "language_info": {
   "codemirror_mode": {
    "name": "ipython",
    "version": 3
   },
   "file_extension": ".py",
   "mimetype": "text/x-python",
   "name": "python",
   "nbconvert_exporter": "python",
   "pygments_lexer": "ipython3",
   "version": "3.9.1"
  }
 },
 "nbformat": 4,
 "nbformat_minor": 2
}

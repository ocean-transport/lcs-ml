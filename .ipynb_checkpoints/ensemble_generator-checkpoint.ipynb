{
 "cells": [
  {
   "cell_type": "markdown",
   "metadata": {},
   "source": [
    "### Generate ensembles from equilibrated state\n",
    "\n",
    "From the initial conditions, add randomness and run model forward using 10 ensemble members. When do members diverge and become independent?\n",
    "\n",
    "TODO:\n",
    "\n",
    "- Wrap method 1 in a function. \n",
    "\n",
    "- Create a script. Single ensemble run. Input is what ensemble member are you?\n",
    "\n",
    "- Slurm can run script in batch. \"Job Array\" sbatch --array=1-30\n",
    "\n",
    "- os.environ() pull environment variable into notebook. Use environment variable to pass information aout what em should be running\n",
    "\n",
    "- environment variables\n",
    "\n",
    "- apply small purturbation to a single point\n",
    "\n",
    "- Instead of plotting KE, plot the correlation between the PV fields at each time step. It should fall off.\n",
    "\n",
    "- module load gcc. pip install -e . pyqg. Use your own developmental repo."
   ]
  },
  {
   "cell_type": "code",
   "execution_count": 102,
   "metadata": {},
   "outputs": [],
   "source": [
    "import numpy as np\n",
    "import xarray as xr\n",
    "import pyqg\n",
    "from pyqg import diagnostic_tools as tools\n",
    "from pyqg import qg_model, particles\n",
    "import matplotlib.pyplot as plt\n",
    "from numpy.random import Generator, MT19937, SeedSequence, seed\n",
    "import os"
   ]
  },
  {
   "cell_type": "code",
   "execution_count": 99,
   "metadata": {},
   "outputs": [
    {
     "data": {
      "text/plain": [
       "0"
      ]
     },
     "execution_count": 99,
     "metadata": {},
     "output_type": "execute_result"
    }
   ],
   "source": [
    "# parameter for randomness\n",
    "n = os.getenv('SLURM_STEP_ID')\n",
    "int(n)"
   ]
  },
  {
   "cell_type": "code",
   "execution_count": 123,
   "metadata": {},
   "outputs": [
    {
     "data": {
      "text/plain": [
       "1"
      ]
     },
     "execution_count": 123,
     "metadata": {},
     "output_type": "execute_result"
    }
   ],
   "source": [
    "s = '1'\n",
    "int(s)"
   ]
  },
  {
   "cell_type": "markdown",
   "metadata": {},
   "source": [
    "#### Import initial conditions from equilibrium run"
   ]
  },
  {
   "cell_type": "code",
   "execution_count": 80,
   "metadata": {},
   "outputs": [],
   "source": [
    "ds_initial = xr.open_dataset('/burg/abernathey/users/hillary/QG_equilibrium_proto.nc')\n",
    "initial_PV = ds_initial.q.values"
   ]
  },
  {
   "cell_type": "markdown",
   "metadata": {},
   "source": [
    "#### Ensemble Generator"
   ]
  },
  {
   "cell_type": "code",
   "execution_count": 82,
   "metadata": {},
   "outputs": [],
   "source": [
    "# config\n",
    "year = 24*60*60*360.\n",
    "day = 24*60*60.\n",
    "tmax = 2*year\n",
    "twrite = day\n",
    "tavestart = day\n",
    "    \n",
    "def ensemble_generator(initial_PV, int(n)):\n",
    "    \n",
    "    # configure model\n",
    "    m = pyqg.QGModel(tmax=tmax, twrite=twrite, tavestart=tavestart)\n",
    "\n",
    "    # create an empty array filled with zeros \n",
    "    noise = np.zeros_like(ds_initial.q.values)\n",
    "\n",
    "    # index to the middle of noise and add random perturbation to both levels\n",
    "    rg = Generator(MT19937(n))\n",
    "    noise[:,np.floor(len(ds_initial.x)/2).astype('int'), np.floor(len(ds_initial.y)/2).astype('int')] = sig*rg.random((m.q.shape[0]))\n",
    "\n",
    "    # set PV anomaly with randomness\n",
    "    m.set_q(ds_initial.q.values + noise)\n",
    "    \n",
    "    # run with snapshots, save model increments as xarray DataSet\n",
    "    datasets = []\n",
    "    for snapshot in m.run_with_snapshots(tsnapstart=m.t, tsnapint=m.dt):\n",
    "        model = m.to_dataset()\n",
    "        model = model.assign(q=(('time','lev','y','x'), m.q.copy()[np.newaxis,...]))\n",
    "        datasets.append(model)\n",
    "\n",
    "    ds = xr.concat(datasets, dim='time')\n",
    "  \n",
    "    # Save model to netCDF\n",
    "    fn = '/burg/abernathey/users/hillary/QG_proto_EM_'+ str('%03d'%randomness) +'.nc'\n",
    "    ds.to_netcdf(fn, engine='h5netcdf', invalid_netcdf=True)\n",
    "    \n",
    "    "
   ]
  }
 ],
 "metadata": {
  "kernelspec": {
   "display_name": "lcs-dev",
   "language": "python",
   "name": "lcs-dev"
  },
  "language_info": {
   "codemirror_mode": {
    "name": "ipython",
    "version": 3
   },
   "file_extension": ".py",
   "mimetype": "text/x-python",
   "name": "python",
   "nbconvert_exporter": "python",
   "pygments_lexer": "ipython3",
   "version": "3.7.10"
  }
 },
 "nbformat": 4,
 "nbformat_minor": 4
}

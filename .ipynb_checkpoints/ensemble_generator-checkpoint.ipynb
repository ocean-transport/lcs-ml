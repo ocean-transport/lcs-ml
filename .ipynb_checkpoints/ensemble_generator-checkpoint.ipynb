{
 "cells": [
  {
   "cell_type": "markdown",
   "metadata": {},
   "source": [
    "### Generate ensembles from equilibrated state\n",
    "\n",
    "From the initial conditions, add randomness and run model forward using 10 ensemble members. When do members diverge and become independent?\n",
    "\n",
    "TODO:\n",
    "\n",
    "- Wrap method 1 in a function. \n",
    "\n",
    "- Create a script. Single ensemble run. Input is what ensemble member are you?\n",
    "\n",
    "- Slurm can run script in batch. \"Job Array\" sbatch --array=1-30\n",
    "\n",
    "- os.environ() pull environment variable into notebook. Use environment variable to pass information aout what em should be running\n",
    "\n",
    "- environment variables\n",
    "\n",
    "- apply small purturbation to a single point\n",
    "\n",
    "- Instead of plotting KE, plot the correlation between the PV fields at each time step. It should fall off.\n",
    "\n",
    "- module load gcc. pip install -e . pyqg. Use your own developmental repo."
   ]
  },
  {
   "cell_type": "code",
   "execution_count": 88,
   "metadata": {},
   "outputs": [],
   "source": [
    "import numpy as np\n",
    "import xarray as xr\n",
    "import pyqg\n",
    "from pyqg import diagnostic_tools as tools\n",
    "from pyqg import qg_model, particles\n",
    "import matplotlib.pyplot as plt\n",
    "from numpy.random import Generator, MT19937, SeedSequence\n",
    "import os"
   ]
  },
  {
   "cell_type": "code",
   "execution_count": 89,
   "metadata": {},
   "outputs": [
    {
     "data": {
      "text/plain": [
       "environ{'CONDA_SHLVL': '1',\n",
       "        'LS_COLORS': 'rs=0:di=38;5;33:ln=38;5;51:mh=00:pi=40;38;5;11:so=38;5;13:do=38;5;5:bd=48;5;232;38;5;11:cd=48;5;232;38;5;3:or=48;5;232;38;5;9:mi=01;05;37;41:su=48;5;196;38;5;15:sg=48;5;11;38;5;16:ca=48;5;196;38;5;226:tw=48;5;10;38;5;16:ow=48;5;10;38;5;21:st=48;5;21;38;5;15:ex=38;5;40:*.tar=38;5;9:*.tgz=38;5;9:*.arc=38;5;9:*.arj=38;5;9:*.taz=38;5;9:*.lha=38;5;9:*.lz4=38;5;9:*.lzh=38;5;9:*.lzma=38;5;9:*.tlz=38;5;9:*.txz=38;5;9:*.tzo=38;5;9:*.t7z=38;5;9:*.zip=38;5;9:*.z=38;5;9:*.dz=38;5;9:*.gz=38;5;9:*.lrz=38;5;9:*.lz=38;5;9:*.lzo=38;5;9:*.xz=38;5;9:*.zst=38;5;9:*.tzst=38;5;9:*.bz2=38;5;9:*.bz=38;5;9:*.tbz=38;5;9:*.tbz2=38;5;9:*.tz=38;5;9:*.deb=38;5;9:*.rpm=38;5;9:*.jar=38;5;9:*.war=38;5;9:*.ear=38;5;9:*.sar=38;5;9:*.rar=38;5;9:*.alz=38;5;9:*.ace=38;5;9:*.zoo=38;5;9:*.cpio=38;5;9:*.7z=38;5;9:*.rz=38;5;9:*.cab=38;5;9:*.wim=38;5;9:*.swm=38;5;9:*.dwm=38;5;9:*.esd=38;5;9:*.jpg=38;5;13:*.jpeg=38;5;13:*.mjpg=38;5;13:*.mjpeg=38;5;13:*.gif=38;5;13:*.bmp=38;5;13:*.pbm=38;5;13:*.pgm=38;5;13:*.ppm=38;5;13:*.tga=38;5;13:*.xbm=38;5;13:*.xpm=38;5;13:*.tif=38;5;13:*.tiff=38;5;13:*.png=38;5;13:*.svg=38;5;13:*.svgz=38;5;13:*.mng=38;5;13:*.pcx=38;5;13:*.mov=38;5;13:*.mpg=38;5;13:*.mpeg=38;5;13:*.m2v=38;5;13:*.mkv=38;5;13:*.webm=38;5;13:*.ogm=38;5;13:*.mp4=38;5;13:*.m4v=38;5;13:*.mp4v=38;5;13:*.vob=38;5;13:*.qt=38;5;13:*.nuv=38;5;13:*.wmv=38;5;13:*.asf=38;5;13:*.rm=38;5;13:*.rmvb=38;5;13:*.flc=38;5;13:*.avi=38;5;13:*.fli=38;5;13:*.flv=38;5;13:*.gl=38;5;13:*.dl=38;5;13:*.xcf=38;5;13:*.xwd=38;5;13:*.yuv=38;5;13:*.cgm=38;5;13:*.emf=38;5;13:*.ogv=38;5;13:*.ogx=38;5;13:*.aac=38;5;45:*.au=38;5;45:*.flac=38;5;45:*.m4a=38;5;45:*.mid=38;5;45:*.midi=38;5;45:*.mka=38;5;45:*.mp3=38;5;45:*.mpc=38;5;45:*.ogg=38;5;45:*.ra=38;5;45:*.wav=38;5;45:*.oga=38;5;45:*.opus=38;5;45:*.spx=38;5;45:*.xspf=38;5;45:',\n",
       "        'LD_LIBRARY_PATH': '/cm/shared/apps/slurm/current/lib64/slurm:/cm/shared/apps/slurm/current/lib64',\n",
       "        'CONDA_EXE': '/burg/opt/anaconda3-2020.11/anaconda3/bin/conda',\n",
       "        'SRUN_DEBUG': '3',\n",
       "        'SLURM_STEP_ID': '0',\n",
       "        'SLURM_NODEID': '0',\n",
       "        'SLURM_TASK_PID': '3797024',\n",
       "        '__LMOD_REF_COUNT_PATH': '/burg/opt/anaconda3-2020.11/anaconda3/bin:2;/burg/opt/anaconda3-2020.11/anaconda3/condabin:1;/cm/shared/apps/slurm/current/sbin:1;/cm/shared/apps/slurm/current/bin:1;/usr/local/bin:1;/usr/bin:1;/usr/local/sbin:1;/usr/sbin:1;/opt/dell/srvadmin/bin:1;/burg/home/hs3277/bin:1',\n",
       "        '_ModuleTable002_': 'MSIsWyJsb2FkT3JkZXIiXT00LHByb3BUPXt9LFsic3RhY2tEZXB0aCJdPTAsWyJzdGF0dXMiXT0iYWN0aXZlIixbInVzZXJOYW1lIl09ImFuYWNvbmRhIix9LHNoYXJlZD17WyJmbiJdPSIvY20vbG9jYWwvbW9kdWxlZmlsZXMvc2hhcmVkIixbImZ1bGxOYW1lIl09InNoYXJlZCIsWyJsb2FkT3JkZXIiXT0xLHByb3BUPXt9LFsic3RhY2tEZXB0aCJdPTEsWyJzdGF0dXMiXT0iYWN0aXZlIixbInVzZXJOYW1lIl09InNoYXJlZCIsfSxzbHVybT17WyJmbiJdPSIvY20vbG9jYWwvbW9kdWxlZmlsZXMvc2x1cm0vMjAuMDIuNiIsWyJmdWxsTmFtZSJdPSJzbHVybS8yMC4wMi42IixbImxvYWRPcmRlciJdPTMscHJvcFQ9e30sWyJzdGFja0RlcHRoIl09MCxbInN0YXR1cyJdPSJhY3Rp',\n",
       "        'SSH_CONNECTION': '98.11.18.104 50293 128.59.124.71 22',\n",
       "        'SLURM_PRIO_PROCESS': '0',\n",
       "        'LANG': 'en_US.UTF-8',\n",
       "        'SLURM_SUBMIT_DIR': '/burg/home/hs3277',\n",
       "        'HISTCONTROL': 'ignoredups',\n",
       "        'HOSTNAME': 'bader',\n",
       "        'LMOD_SYSTEM_DEFAULT_MODULES': 'DefaultModules',\n",
       "        '__LMOD_REF_COUNT__LMFILES_': '/cm/local/modulefiles/shared:1;/usr/share/modulefiles/DefaultModules.lua:1;/cm/local/modulefiles/slurm/20.02.6:1;/cm/shared/modulefiles/anaconda/3-2020.11:1',\n",
       "        'SLURM_CPUS_PER_TASK': '4',\n",
       "        'SLURM_STEPID': '0',\n",
       "        'SLURM_SRUN_COMM_HOST': '10.197.16.141',\n",
       "        'SLURM_DISTRIBUTION': 'cyclic',\n",
       "        '__LMOD_SET_FPATH': '1',\n",
       "        'FPATH': '/usr/share/lmod/lmod/init/ksh_funcs',\n",
       "        'CONDA_PREFIX': '/burg/opt/anaconda3-2020.11/anaconda3',\n",
       "        'SLURM_PROCID': '0',\n",
       "        'SLURM_JOB_GID': '500',\n",
       "        '__LMOD_REF_COUNT_LD_LIBRARY_PATH': '/cm/shared/apps/slurm/current/lib64/slurm:1;/cm/shared/apps/slurm/current/lib64:1',\n",
       "        'SLURMD_NODENAME': 'g129',\n",
       "        'SLURM_TASKS_PER_NODE': '1',\n",
       "        'S_COLORS': 'auto',\n",
       "        '_CE_M': '',\n",
       "        'XDG_SESSION_ID': '64260',\n",
       "        'SLURM_NNODES': '1',\n",
       "        'USER': 'hs3277',\n",
       "        'SLURM_LAUNCH_NODE_IPADDR': '10.197.16.141',\n",
       "        'SLURM_STEP_TASKS_PER_NODE': '1',\n",
       "        '__LMOD_REF_COUNT_MODULEPATH': '/cm/local/modulefiles:1;/etc/modulefiles:1;/usr/share/modulefiles:1;/usr/share/Modules/modulefiles:1;/cm/shared/modulefiles:2',\n",
       "        '__LMOD_REF_COUNT_LOADEDMODULES': 'shared:1;DefaultModules:1;slurm/20.02.6:1;anaconda/3-2020.11:1',\n",
       "        'PWD': '/burg/home/hs3277',\n",
       "        'ENABLE_LMOD': '1',\n",
       "        'SLURM_JOB_NODELIST': 'g129',\n",
       "        'HOME': '/burg/home/hs3277',\n",
       "        'SLURM_CLUSTER_NAME': 'ginsburg',\n",
       "        'CONDA_PYTHON_EXE': '/burg/opt/anaconda3-2020.11/anaconda3/bin/python',\n",
       "        'LMOD_COLORIZE': 'yes',\n",
       "        'SLURM_NODELIST': 'g129',\n",
       "        'SSH_CLIENT': '98.11.18.104 50293 22',\n",
       "        'LMOD_VERSION': '8.4',\n",
       "        'CPATH': '/cm/shared/apps/slurm/current/include',\n",
       "        'SLURM_NTASKS': '1',\n",
       "        'LMOD_SETTARG_CMD': ':',\n",
       "        'SLURM_UMASK': '0022',\n",
       "        'KRB5CCNAME': 'KEYRING:persistent:545216',\n",
       "        'SLURM_JOB_CPUS_PER_NODE': '4',\n",
       "        'BASH_ENV': '/usr/share/lmod/lmod/init/bash',\n",
       "        'SLURM_TOPOLOGY_ADDR': 'g129',\n",
       "        '_CE_CONDA': '',\n",
       "        'SLURM_WORKING_CLUSTER': 'ginsburg:supreme:6817:8960:101',\n",
       "        '__LMOD_REF_COUNT_LIBRARY_PATH': '/cm/shared/apps/slurm/current/lib64/slurm:1;/cm/shared/apps/slurm/current/lib64:1',\n",
       "        'SLURM_STEP_NODELIST': 'g129',\n",
       "        'SLURM_JOB_NAME': 'bash',\n",
       "        'SLURM_SRUN_COMM_PORT': '35797',\n",
       "        'TMPDIR': '/tmp',\n",
       "        'LIBRARY_PATH': '/cm/shared/apps/slurm/current/lib64/slurm:/cm/shared/apps/slurm/current/lib64',\n",
       "        'LMOD_sys': 'Linux',\n",
       "        'SLURM_JOBID': '47946',\n",
       "        '_ModuleTable001_': 'X01vZHVsZVRhYmxlXz17WyJNVHZlcnNpb24iXT0zLFsiY19yZWJ1aWxkVGltZSJdPWZhbHNlLFsiY19zaG9ydFRpbWUiXT1mYWxzZSxkZXB0aFQ9e30sZmFtaWx5PXt9LG1UPXtEZWZhdWx0TW9kdWxlcz17WyJmbiJdPSIvdXNyL3NoYXJlL21vZHVsZWZpbGVzL0RlZmF1bHRNb2R1bGVzLmx1YSIsWyJmdWxsTmFtZSJdPSJEZWZhdWx0TW9kdWxlcyIsWyJsb2FkT3JkZXIiXT0yLHByb3BUPXt9LFsic3RhY2tEZXB0aCJdPTAsWyJzdGF0dXMiXT0iYWN0aXZlIixbInVzZXJOYW1lIl09IkRlZmF1bHRNb2R1bGVzIix9LGFuYWNvbmRhPXtbImZuIl09Ii9jbS9zaGFyZWQvbW9kdWxlZmlsZXMvYW5hY29uZGEvMy0yMDIwLjExIixbImZ1bGxOYW1lIl09ImFuYWNvbmRhLzMtMjAyMC4x',\n",
       "        'SLURM_CONF': '/cm/shared/apps/slurm/var/etc/slurm/slurm.conf',\n",
       "        'LOADEDMODULES': 'shared:DefaultModules:slurm/20.02.6:anaconda/3-2020.11',\n",
       "        '__LMOD_REF_COUNT_MANPATH': '/cm/shared/apps/slurm/current/man:1;/usr/share/lmod/lmod/share/man:1;/usr/local/share/man:1;/usr/share/man:1;/cm/local/apps/environment-modules/current/share/man:1',\n",
       "        '_ModuleTable003_': 'dmUiLFsidXNlck5hbWUiXT0ic2x1cm0iLH0sfSxtcGF0aEE9eyIvY20vbG9jYWwvbW9kdWxlZmlsZXMiLCIvZXRjL21vZHVsZWZpbGVzIiwiL3Vzci9zaGFyZS9tb2R1bGVmaWxlcyIsIi91c3Ivc2hhcmUvTW9kdWxlcy9tb2R1bGVmaWxlcyIsIi9jbS9zaGFyZWQvbW9kdWxlZmlsZXMiLH0sWyJzeXN0ZW1CYXNlTVBBVEgiXT0iL2NtL2xvY2FsL21vZHVsZWZpbGVzOi9jbS9zaGFyZWQvbW9kdWxlZmlsZXM6L2V0Yy9tb2R1bGVmaWxlczovdXNyL3NoYXJlL21vZHVsZWZpbGVzOi91c3Ivc2hhcmUvTW9kdWxlcy9tb2R1bGVmaWxlcyIsfQ==',\n",
       "        'SLURM_JOB_QOS': 'h012',\n",
       "        'LMOD_ROOT': '/usr/share/lmod',\n",
       "        'SLURM_TOPOLOGY_ADDR_PATTERN': 'node',\n",
       "        'CONDA_PROMPT_MODIFIER': '(base) ',\n",
       "        'SSH_TTY': '/dev/pts/0',\n",
       "        'MAIL': '/var/spool/mail/hs3277',\n",
       "        'SLURM_CPUS_ON_NODE': '4',\n",
       "        'LMOD_arch': 'x86_64',\n",
       "        'SLURM_JOB_NUM_NODES': '1',\n",
       "        '__Init_Default_Modules': '1',\n",
       "        'CMD_WLM_CLUSTER_NAME': 'slurm',\n",
       "        'SHELL': '/bin/bash',\n",
       "        'TERM': 'xterm-color',\n",
       "        'SLURM_JOB_UID': '545216',\n",
       "        '_ModuleTable_Sz_': '3',\n",
       "        '__LMOD_REF_COUNT_CPATH': '/cm/shared/apps/slurm/current/include:1',\n",
       "        'SLURM_JOB_PARTITION': 'short,abernathey1',\n",
       "        'SLURM_PTY_WIN_ROW': '25',\n",
       "        'SLURM_JOB_USER': 'hs3277',\n",
       "        'SLURM_PTY_WIN_COL': '80',\n",
       "        'SLURM_NPROCS': '1',\n",
       "        'SHLVL': '2',\n",
       "        'SLURM_SUBMIT_HOST': 'bader',\n",
       "        'SLURM_JOB_ACCOUNT': 'abernathey',\n",
       "        'MANPATH': '/cm/shared/apps/slurm/current/man:/usr/share/lmod/lmod/share/man:/usr/local/share/man:/usr/share/man:/cm/local/apps/environment-modules/current/share/man:/cm/local/apps/environment-modules/current/share/man',\n",
       "        'LMOD_PREPEND_BLOCK': 'normal',\n",
       "        'SLURM_STEP_LAUNCHER_PORT': '35797',\n",
       "        'MODULEPATH': '/cm/local/modulefiles:/etc/modulefiles:/usr/share/modulefiles:/usr/share/Modules/modulefiles:/cm/shared/modulefiles',\n",
       "        'SLURM_PTY_PORT': '42311',\n",
       "        'SLURM_GTIDS': '0',\n",
       "        'LOGNAME': 'hs3277',\n",
       "        'DBUS_SESSION_BUS_ADDRESS': 'unix:path=/run/user/545216/bus',\n",
       "        'MODULEPATH_ROOT': '/usr/share/modulefiles',\n",
       "        'PATH': '/burg/opt/anaconda3-2020.11/anaconda3/bin:/burg/opt/anaconda3-2020.11/anaconda3/condabin:/cm/shared/apps/slurm/current/sbin:/cm/shared/apps/slurm/current/bin:/usr/local/bin:/usr/bin:/usr/local/sbin:/usr/sbin:/opt/dell/srvadmin/bin:/burg/home/hs3277/bin',\n",
       "        'SLURM_JOB_ID': '47946',\n",
       "        '_LMFILES_': '/cm/local/modulefiles/shared:/usr/share/modulefiles/DefaultModules.lua:/cm/local/modulefiles/slurm/20.02.6:/cm/shared/modulefiles/anaconda/3-2020.11',\n",
       "        'SLURM_STEP_NUM_TASKS': '1',\n",
       "        'MODULESHOME': '/usr/share/lmod/lmod',\n",
       "        'LMOD_SETTARG_FULL_SUPPORT': 'no',\n",
       "        'CONDA_DEFAULT_ENV': 'base',\n",
       "        'HISTSIZE': '1000',\n",
       "        'LMOD_PKG': '/usr/share/lmod/lmod',\n",
       "        'SLURM_STEP_NUM_NODES': '1',\n",
       "        'LMOD_CMD': '/usr/share/lmod/lmod/libexec/lmod',\n",
       "        'SLURM_LOCALID': '0',\n",
       "        'LESSOPEN': '||/usr/bin/lesspipe.sh %s',\n",
       "        'LMOD_FULL_SETTARG_SUPPORT': 'no',\n",
       "        'LMOD_DIR': '/usr/share/lmod/lmod/libexec',\n",
       "        'BASH_FUNC_module%%': '() {  eval $($LMOD_CMD bash \"$@\") && eval $(${LMOD_SETTARG_CMD:-:} -s sh)\\n}',\n",
       "        'BASH_FUNC_ml%%': '() {  eval $($LMOD_DIR/ml_cmd \"$@\")\\n}',\n",
       "        '_': '/burg/opt/anaconda3-2020.11/anaconda3/bin/jupyter',\n",
       "        'JPY_PARENT_PID': '3797156',\n",
       "        'CLICOLOR': '1',\n",
       "        'PAGER': 'cat',\n",
       "        'GIT_PAGER': 'cat',\n",
       "        'MPLBACKEND': 'module://ipykernel.pylab.backend_inline'}"
      ]
     },
     "execution_count": 89,
     "metadata": {},
     "output_type": "execute_result"
    }
   ],
   "source": [
    "os.environ"
   ]
  },
  {
   "cell_type": "code",
   "execution_count": 95,
   "metadata": {},
   "outputs": [
    {
     "data": {
      "text/plain": [
       "'0'"
      ]
     },
     "execution_count": 95,
     "metadata": {},
     "output_type": "execute_result"
    }
   ],
   "source": [
    "# parameter for randomness\n",
    "n = os.getenv('SLURM_STEP_ID')\n",
    "n"
   ]
  },
  {
   "cell_type": "markdown",
   "metadata": {},
   "source": [
    "#### Import initial conditions from equilibrium run\n",
    "\n"
   ]
  },
  {
   "cell_type": "code",
   "execution_count": 80,
   "metadata": {},
   "outputs": [],
   "source": [
    "ds_initial = xr.open_dataset('/burg/abernathey/users/hillary/QG_equilibrium_proto.nc')\n"
   ]
  },
  {
   "cell_type": "markdown",
   "metadata": {},
   "source": [
    "#### Ensemble Generator"
   ]
  },
  {
   "cell_type": "code",
   "execution_count": 81,
   "metadata": {},
   "outputs": [],
   "source": [
    "initial_PV = ds_initial.q.values"
   ]
  },
  {
   "cell_type": "code",
   "execution_count": 82,
   "metadata": {},
   "outputs": [],
   "source": [
    "# config\n",
    "year = 24*60*60*360.\n",
    "day = 24*60*60.\n",
    "tmax = 2*year\n",
    "twrite = day\n",
    "tavestart = day\n",
    "    \n",
    "def ensemble_generator(initial_PV, n):\n",
    "    \n",
    "    # configure model\n",
    "    m = pyqg.QGModel(tmax=tmax, twrite=twrite, tavestart=tavestart)\n",
    "\n",
    "    # create an empty array filled with zeros \n",
    "    noise = np.zeros_like(ds_initial.q.values)\n",
    "\n",
    "    # index to the middle of noise and add random perturbation to both levels\n",
    "    rg = Generator(MT19937(SeedSequence(n)))\n",
    "    noise[:,np.floor(len(ds_initial.x)/2).astype('int'), np.floor(len(ds_initial.y)/2).astype('int')] = sig*rg.random((m.q.shape[0]))\n",
    "\n",
    "    # set PV anomaly with randomness\n",
    "    m.set_q(ds_initial.q.values + noise)\n",
    "    \n",
    "    # run with snapshots, save model increments as xarray DataSet\n",
    "    datasets = []\n",
    "    for snapshot in m.run_with_snapshots(tsnapstart=m.t, tsnapint=m.dt):\n",
    "        model = m.to_dataset()\n",
    "        model = model.assign(q=(('time','lev','y','x'), m.q.copy()[np.newaxis,...]))\n",
    "        datasets.append(model)\n",
    "\n",
    "    ds = xr.concat(datasets, dim='time')\n",
    "  \n",
    "    # Save model to netCDF\n",
    "    fn = '/burg/abernathey/users/hillary/QG_proto_EM_'+ str('%03d'%randomness) +'.nc'\n",
    "    ds.to_netcdf(fn, engine='h5netcdf', invalid_netcdf=True)\n",
    "    \n",
    "    "
   ]
  }
 ],
 "metadata": {
  "kernelspec": {
   "display_name": "lcs-dev",
   "language": "python",
   "name": "lcs-dev"
  },
  "language_info": {
   "codemirror_mode": {
    "name": "ipython",
    "version": 3
   },
   "file_extension": ".py",
   "mimetype": "text/x-python",
   "name": "python",
   "nbconvert_exporter": "python",
   "pygments_lexer": "ipython3",
   "version": "3.7.10"
  }
 },
 "nbformat": 4,
 "nbformat_minor": 4
}

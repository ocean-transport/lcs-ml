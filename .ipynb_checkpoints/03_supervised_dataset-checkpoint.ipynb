{
 "cells": [
  {
   "cell_type": "markdown",
   "metadata": {},
   "source": [
    "## This notebook prepares testing / training data for the supervised learning of LCS"
   ]
  },
  {
   "cell_type": "markdown",
   "metadata": {},
   "source": [
    "#### Our inputs will be images containing:\n",
    "- LAVD field\n",
    "- Labeled binary mask of eddies detected using RCLV\n",
    "\n",
    "The LAVD field was generated following the QG model setup in [Zhang et al. (2020)](https://doi.org/10.3390/fluids5010002), which can be reproduced in **02_RCLV_Zhang2020.ipynb**. Eddies are identified using the RCLV method and implemented with `floater` using a coherency index of -0.75 and minimum area of 200 pixels.  \n",
    "\n",
    "#### Some questions:\n",
    "\n",
    "How many images do we need to be statistically independent? 100? 1000?\n",
    "\n",
    "Are we going to use augmentation (rotation, translation, flipping, etc.)?"
   ]
  },
  {
   "cell_type": "code",
   "execution_count": 1,
   "metadata": {},
   "outputs": [],
   "source": [
    "import xarray as xr"
   ]
  },
  {
   "cell_type": "code",
   "execution_count": 2,
   "metadata": {},
   "outputs": [],
   "source": [
    "# Import zarr files created from 02_RCLV_Zhang2020.ipynb\n",
    "LAVD = xr.open_zarr()\n",
    "\n",
    "labels = xr.open_zarr()"
   ]
  },
  {
   "cell_type": "code",
   "execution_count": null,
   "metadata": {},
   "outputs": [],
   "source": []
  }
 ],
 "metadata": {
  "kernelspec": {
   "display_name": "Python [conda env:lcs-ml]",
   "language": "python",
   "name": "conda-env-lcs-ml-py"
  },
  "language_info": {
   "codemirror_mode": {
    "name": "ipython",
    "version": 3
   },
   "file_extension": ".py",
   "mimetype": "text/x-python",
   "name": "python",
   "nbconvert_exporter": "python",
   "pygments_lexer": "ipython3",
   "version": "3.9.1"
  }
 },
 "nbformat": 4,
 "nbformat_minor": 2
}

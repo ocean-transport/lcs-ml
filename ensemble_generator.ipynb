{
 "cells": [
  {
   "cell_type": "markdown",
   "metadata": {},
   "source": [
    "### Generate ensembles from equilibrated state\n",
    "\n",
    "From the initial conditions, add randomness and run model forward using 10 ensemble members. When do members diverge and become independent?\n",
    "\n"
   ]
  },
  {
   "cell_type": "code",
   "execution_count": 1,
   "metadata": {},
   "outputs": [
    {
     "name": "stderr",
     "output_type": "stream",
     "text": [
      "<frozen importlib._bootstrap>:228: UserWarning: No pyfftw detected. Using numpy.fft\n"
     ]
    }
   ],
   "source": [
    "import numpy as np\n",
    "import xarray as xr\n",
    "import pyqg\n",
    "from pyqg import diagnostic_tools as tools\n",
    "from pyqg import qg_model, particles\n",
    "import matplotlib.pyplot as plt\n",
    "from numpy.random import Generator, MT19937, SeedSequence, seed\n",
    "import os\n",
    "import yaml"
   ]
  },
  {
   "cell_type": "markdown",
   "metadata": {},
   "source": [
    "#### Import initial conditions from equilibrium run"
   ]
  },
  {
   "cell_type": "code",
   "execution_count": 2,
   "metadata": {},
   "outputs": [],
   "source": [
    "ds_initial = xr.open_dataset('/burg/abernathey/users/hillary/QG_equilibrium_proto.nc')\n"
   ]
  },
  {
   "cell_type": "code",
   "execution_count": 15,
   "metadata": {},
   "outputs": [
    {
     "data": {
      "text/plain": [
       "311040000"
      ]
     },
     "execution_count": 15,
     "metadata": {},
     "output_type": "execute_result"
    }
   ],
   "source": [
    "10*31104000"
   ]
  },
  {
   "cell_type": "markdown",
   "metadata": {},
   "source": [
    "#### Ensemble Generator"
   ]
  },
  {
   "cell_type": "code",
   "execution_count": null,
   "metadata": {},
   "outputs": [],
   "source": [
    "# config\n",
    "year = 24*60*60*360.\n",
    "day = 24*60*60.\n",
    "tmax = 2*year\n",
    "twrite = day\n",
    "tavestart = day\n",
    "sig = 1.e-6\n",
    "n=1\n",
    "\n",
    "config={'tmax':(2*year), 'twrite': (day), 'tavestart':(day), 'sig':(1.e-6)}\n",
    "\n",
    "def ensemble_generator(initial_PV, n):\n",
    "    os.mkdir('/burg/abernathey/users/hillary/'+ str('%03d'%int(n)))\n",
    "    \n",
    "    # configure model\n",
    "    m = pyqg.QGModel(tmax=config['tmax'], twrite=config['twrite'], tavestart=config['tavestart'])\n",
    "    m = pyqg.QGModel(tmax=config['tmax'], twrite=config['twrite'], tavestart=config['tavestart'])\n",
    "\n",
    "    # create an empty array filled with zeros \n",
    "    noise = np.zeros_like(ds_initial.q.values)\n",
    "\n",
    "    # index to the middle of noise and add random perturbation to both levels\n",
    "    rg = Generator(MT19937(int(n))) \n",
    "    noise[:,np.floor(len(ds_initial.x)/2).astype('int'), \n",
    "          np.floor(len(ds_initial.y)/2).astype('int')] = config['sig']*rg.random((m.q.shape[0]))\n",
    "\n",
    "    # set PV anomaly with randomness\n",
    "    m.set_q(ds_initial.q.values + noise)\n",
    "    \n",
    "    # run with snapshots, save model increments as xarray DataSet\n",
    "    for snapshot in m.run_with_snapshots(tsnapstart=m.t, tsnapint=m.dt):\n",
    "        model = m.to_dataset()\n",
    "        model = model.expand_dims(dim='n')\n",
    "        model['n'] = [int(n)]\n",
    "        fn = '/burg/abernathey/users/hillary/'+ str('%03d'%int(n)) +'/QG_proto_EM_'+ str('%03d_%d'%(int(n),model.time.values[0])) +'.nc'        \n",
    "        model.to_netcdf(fn, engine='h5netcdf', invalid_netcdf=True, mode='a')\n",
    "\n"
   ]
  },
  {
   "cell_type": "code",
   "execution_count": null,
   "metadata": {},
   "outputs": [],
   "source": [
    "m = ensemble_generator(ds_initial, 1)"
   ]
  },
  {
   "cell_type": "code",
   "execution_count": null,
   "metadata": {},
   "outputs": [],
   "source": [
    "fn = '/burg/abernathey/users/hillary/'+ str('%03d'%int(n)) +'/QG_proto_EM_'+ str('%03d_%09d'%(int(n),model.time.values[0])) +'.nc'        \n"
   ]
  },
  {
   "cell_type": "code",
   "execution_count": null,
   "metadata": {},
   "outputs": [],
   "source": [
    "fn"
   ]
  },
  {
   "cell_type": "code",
   "execution_count": null,
   "metadata": {},
   "outputs": [],
   "source": []
  }
 ],
 "metadata": {
  "kernelspec": {
   "display_name": "lcs-dev",
   "language": "python",
   "name": "lcs-dev"
  },
  "language_info": {
   "codemirror_mode": {
    "name": "ipython",
    "version": 3
   },
   "file_extension": ".py",
   "mimetype": "text/x-python",
   "name": "python",
   "nbconvert_exporter": "python",
   "pygments_lexer": "ipython3",
   "version": "3.9.5"
  }
 },
 "nbformat": 4,
 "nbformat_minor": 4
}

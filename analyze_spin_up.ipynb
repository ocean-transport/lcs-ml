{
 "cells": [
  {
   "cell_type": "markdown",
   "metadata": {},
   "source": [
    "### Import spin up files, plot KE and PV evolution"
   ]
  },
  {
   "cell_type": "code",
   "execution_count": null,
   "metadata": {},
   "outputs": [],
   "source": [
    "import numpy as np\n",
    "import xarray as xr\n",
    "import matplotlib.pyplot as plt"
   ]
  },
  {
   "cell_type": "code",
   "execution_count": null,
   "metadata": {},
   "outputs": [],
   "source": [
    "# # import spin-up files\n",
    "ds = xr.open_mfdataset('/burg/abernathey/users/hillary/spin_up/*.nc')\n",
    "ds"
   ]
  },
  {
   "cell_type": "code",
   "execution_count": null,
   "metadata": {},
   "outputs": [],
   "source": [
    "# Mean Eddy Kinetic Energy (EKE) as a function of time\n",
    "dEKE_dt = np.gradient(ds.EKE.isel(lev=0), ds.time)\n",
    "I = int(np.where(np.abs(ds.time - year*14)==np.min(np.abs(ds.time - year*14)))[0])\n",
    "time_stable = ds.time[I].values\n",
    "\n",
    "# Plot EKE derivative\n",
    "plt.rcParams.update({'font.size': 18})\n",
    "plt.figure(figsize=(12,6)); plt.plot(ds.time/year, dEKE_dt)\n",
    "plt.ylabel('EKE central differece'); plt.xlabel('model time (year)')\n",
    "plt.axvline(x=time_stable/year, color='k', linestyle='--')\n",
    "\n",
    "\n",
    "print('model appears stable at', ds.time[I].values/year, 'years');"
   ]
  },
  {
   "cell_type": "code",
   "execution_count": null,
   "metadata": {},
   "outputs": [],
   "source": [
    "# Plot time series of EKE\n",
    "plt.figure(figsize=(12,6))\n",
    "plt.semilogy(ds.time/year, ds.EKE.isel(lev=0), lw=4, color='purple', label='upper layer')\n",
    "plt.semilogy(ds.time/year, ds.EKE.isel(lev=1), lw=4, color='darkorange', label='lower layer')\n",
    "ints = [10000, 15000, 25000, 35000, 55000, 70000]\n",
    "for i in ints:\n",
    "    plt.axvline(x=ds.time[i]/year, color='lightblue', linewidth=2, alpha=1)\n",
    "plt.axvline(x=time_stable/year, color='k', lw=2, linestyle='--')\n",
    "plt.grid(True, alpha=0.5); plt.legend(frameon=False, ncol=2)\n",
    "plt.ylabel(r'KE ($\\rmcm^{2}$/$\\rms^{2}$)'); plt.xlabel('Model Time (year)');"
   ]
  },
  {
   "cell_type": "markdown",
   "metadata": {},
   "source": [
    "As the model gets spun up, the mean EKE increases until it reaches an equilibrated state. When the EKE plateaus the model is in a stable state. The dashed vertical line marks 12.5 years when the model appears stable. This would be a good place to save the model state for the ensemble perturbation experiment.\n",
    "\n",
    "Vertical light blue lines show times corresponding the the snapshots plotted below. "
   ]
  },
  {
   "cell_type": "code",
   "execution_count": null,
   "metadata": {},
   "outputs": [],
   "source": [
    "# Evolution of the upper PV anomaly field\n",
    "print('stable index ', int(np.where(ds.time == time_stable)[0]))\n",
    "\n",
    "plt.rcParams.update({'font.size': 10})\n",
    "plt.rcParams['image.cmap'] = 'RdBu'\n",
    "\n",
    "ints = [0, 1000, 5000, 10000, 20000, 50000]\n",
    "plt.figure(figsize=(15,15))\n",
    "for i in enumerate(ints):\n",
    "    plt.subplot(2,3,i[0]+1)\n",
    "    plt.pcolormesh(ds.q[i[1],0,:,:])\n",
    "    plt.title((ds.time[i[1]].values/year).round(decimals=2), color='k') # The titles correspond to the model time in years. \n",
    "    plt.colorbar()"
   ]
  },
  {
   "cell_type": "code",
   "execution_count": null,
   "metadata": {},
   "outputs": [],
   "source": [
    "# Save model state at equilibrium\n",
    "I = int(np.where(np.abs(ds.time - time_stable)==np.min(np.abs(ds.time - time_stable)))[0])\n",
    "qg_equilibrium = ds[dict(time=I)]\n",
    "\n",
    "path = '/burg/abernathey/users/hillary/'\n",
    "qg_equilibrium.to_netcdf(path+'QG_equilibrium_proto.nc', engine='h5netcdf', invalid_netcdf=True)"
   ]
  }
 ],
 "metadata": {
  "kernelspec": {
   "display_name": "lcs-dev",
   "language": "python",
   "name": "lcs-dev"
  },
  "language_info": {
   "codemirror_mode": {
    "name": "ipython",
    "version": 3
   },
   "file_extension": ".py",
   "mimetype": "text/x-python",
   "name": "python",
   "nbconvert_exporter": "python",
   "pygments_lexer": "ipython3",
   "version": "3.9.5"
  }
 },
 "nbformat": 4,
 "nbformat_minor": 4
}
